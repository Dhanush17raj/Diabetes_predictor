{
 "cells": [
  {
   "cell_type": "code",
   "execution_count": 3,
   "id": "6d9945cd-eee9-4741-a867-ba05a2334582",
   "metadata": {},
   "outputs": [],
   "source": [
    "import numpy as np\n",
    "import pandas as pd\n",
    "from sklearn.preprocessing import StandardScaler\n",
    "from sklearn.model_selection import train_test_split\n",
    "from sklearn import svm\n",
    "from sklearn.metrics import accuracy_score"
   ]
  },
  {
   "cell_type": "markdown",
   "id": "e1142898-5d8b-43c2-8013-a208114524cc",
   "metadata": {},
   "source": [
    "Data Collection And Analysis"
   ]
  },
  {
   "cell_type": "code",
   "execution_count": 4,
   "id": "1f9f6a29-8fe9-4aa6-a7e0-4981e5a6f4fc",
   "metadata": {},
   "outputs": [],
   "source": [
    "dataset =  pd.read_csv(\"diabetes_dataset.csv\")"
   ]
  },
  {
   "cell_type": "code",
   "execution_count": 5,
   "id": "db2282e7-e5e6-4410-9d66-a276b234caae",
   "metadata": {},
   "outputs": [
    {
     "data": {
      "text/html": [
       "<div>\n",
       "<style scoped>\n",
       "    .dataframe tbody tr th:only-of-type {\n",
       "        vertical-align: middle;\n",
       "    }\n",
       "\n",
       "    .dataframe tbody tr th {\n",
       "        vertical-align: top;\n",
       "    }\n",
       "\n",
       "    .dataframe thead th {\n",
       "        text-align: right;\n",
       "    }\n",
       "</style>\n",
       "<table border=\"1\" class=\"dataframe\">\n",
       "  <thead>\n",
       "    <tr style=\"text-align: right;\">\n",
       "      <th></th>\n",
       "      <th>Pregnancies</th>\n",
       "      <th>Glucose</th>\n",
       "      <th>BloodPressure</th>\n",
       "      <th>SkinThickness</th>\n",
       "      <th>Insulin</th>\n",
       "      <th>BMI</th>\n",
       "      <th>DiabetesPedigreeFunction</th>\n",
       "      <th>Age</th>\n",
       "      <th>Outcome</th>\n",
       "    </tr>\n",
       "  </thead>\n",
       "  <tbody>\n",
       "    <tr>\n",
       "      <th>0</th>\n",
       "      <td>6</td>\n",
       "      <td>148</td>\n",
       "      <td>72</td>\n",
       "      <td>35</td>\n",
       "      <td>0</td>\n",
       "      <td>33.6</td>\n",
       "      <td>0.627</td>\n",
       "      <td>50</td>\n",
       "      <td>1</td>\n",
       "    </tr>\n",
       "    <tr>\n",
       "      <th>1</th>\n",
       "      <td>1</td>\n",
       "      <td>85</td>\n",
       "      <td>66</td>\n",
       "      <td>29</td>\n",
       "      <td>0</td>\n",
       "      <td>26.6</td>\n",
       "      <td>0.351</td>\n",
       "      <td>31</td>\n",
       "      <td>0</td>\n",
       "    </tr>\n",
       "    <tr>\n",
       "      <th>2</th>\n",
       "      <td>8</td>\n",
       "      <td>183</td>\n",
       "      <td>64</td>\n",
       "      <td>0</td>\n",
       "      <td>0</td>\n",
       "      <td>23.3</td>\n",
       "      <td>0.672</td>\n",
       "      <td>32</td>\n",
       "      <td>1</td>\n",
       "    </tr>\n",
       "    <tr>\n",
       "      <th>3</th>\n",
       "      <td>1</td>\n",
       "      <td>89</td>\n",
       "      <td>66</td>\n",
       "      <td>23</td>\n",
       "      <td>94</td>\n",
       "      <td>28.1</td>\n",
       "      <td>0.167</td>\n",
       "      <td>21</td>\n",
       "      <td>0</td>\n",
       "    </tr>\n",
       "    <tr>\n",
       "      <th>4</th>\n",
       "      <td>0</td>\n",
       "      <td>137</td>\n",
       "      <td>40</td>\n",
       "      <td>35</td>\n",
       "      <td>168</td>\n",
       "      <td>43.1</td>\n",
       "      <td>2.288</td>\n",
       "      <td>33</td>\n",
       "      <td>1</td>\n",
       "    </tr>\n",
       "  </tbody>\n",
       "</table>\n",
       "</div>"
      ],
      "text/plain": [
       "   Pregnancies  Glucose  BloodPressure  SkinThickness  Insulin   BMI  \\\n",
       "0            6      148             72             35        0  33.6   \n",
       "1            1       85             66             29        0  26.6   \n",
       "2            8      183             64              0        0  23.3   \n",
       "3            1       89             66             23       94  28.1   \n",
       "4            0      137             40             35      168  43.1   \n",
       "\n",
       "   DiabetesPedigreeFunction  Age  Outcome  \n",
       "0                     0.627   50        1  \n",
       "1                     0.351   31        0  \n",
       "2                     0.672   32        1  \n",
       "3                     0.167   21        0  \n",
       "4                     2.288   33        1  "
      ]
     },
     "execution_count": 5,
     "metadata": {},
     "output_type": "execute_result"
    }
   ],
   "source": [
    "dataset.head()"
   ]
  },
  {
   "cell_type": "code",
   "execution_count": 6,
   "id": "1fe08ff5-4976-439a-a0e7-f5d5bb5117ce",
   "metadata": {},
   "outputs": [
    {
     "data": {
      "text/plain": [
       "(768, 9)"
      ]
     },
     "execution_count": 6,
     "metadata": {},
     "output_type": "execute_result"
    }
   ],
   "source": [
    "dataset.shape"
   ]
  },
  {
   "cell_type": "code",
   "execution_count": 7,
   "id": "6ab72072-a2cb-4796-8430-653be47ce0dc",
   "metadata": {},
   "outputs": [],
   "source": [
    "##np.shape? (it is for getting help)"
   ]
  },
  {
   "cell_type": "code",
   "execution_count": 8,
   "id": "c730c872-cf6d-4c9b-8832-a4abaf305649",
   "metadata": {},
   "outputs": [],
   "source": [
    "##Statistical measure of the data"
   ]
  },
  {
   "cell_type": "code",
   "execution_count": 9,
   "id": "901f505e-ea9e-492a-88d6-4fa2a1fb4d73",
   "metadata": {},
   "outputs": [
    {
     "data": {
      "text/html": [
       "<div>\n",
       "<style scoped>\n",
       "    .dataframe tbody tr th:only-of-type {\n",
       "        vertical-align: middle;\n",
       "    }\n",
       "\n",
       "    .dataframe tbody tr th {\n",
       "        vertical-align: top;\n",
       "    }\n",
       "\n",
       "    .dataframe thead th {\n",
       "        text-align: right;\n",
       "    }\n",
       "</style>\n",
       "<table border=\"1\" class=\"dataframe\">\n",
       "  <thead>\n",
       "    <tr style=\"text-align: right;\">\n",
       "      <th></th>\n",
       "      <th>Pregnancies</th>\n",
       "      <th>Glucose</th>\n",
       "      <th>BloodPressure</th>\n",
       "      <th>SkinThickness</th>\n",
       "      <th>Insulin</th>\n",
       "      <th>BMI</th>\n",
       "      <th>DiabetesPedigreeFunction</th>\n",
       "      <th>Age</th>\n",
       "      <th>Outcome</th>\n",
       "    </tr>\n",
       "  </thead>\n",
       "  <tbody>\n",
       "    <tr>\n",
       "      <th>count</th>\n",
       "      <td>768.000000</td>\n",
       "      <td>768.000000</td>\n",
       "      <td>768.000000</td>\n",
       "      <td>768.000000</td>\n",
       "      <td>768.000000</td>\n",
       "      <td>768.000000</td>\n",
       "      <td>768.000000</td>\n",
       "      <td>768.000000</td>\n",
       "      <td>768.000000</td>\n",
       "    </tr>\n",
       "    <tr>\n",
       "      <th>mean</th>\n",
       "      <td>3.845052</td>\n",
       "      <td>120.894531</td>\n",
       "      <td>69.105469</td>\n",
       "      <td>20.536458</td>\n",
       "      <td>79.799479</td>\n",
       "      <td>31.992578</td>\n",
       "      <td>0.471876</td>\n",
       "      <td>33.240885</td>\n",
       "      <td>0.348958</td>\n",
       "    </tr>\n",
       "    <tr>\n",
       "      <th>std</th>\n",
       "      <td>3.369578</td>\n",
       "      <td>31.972618</td>\n",
       "      <td>19.355807</td>\n",
       "      <td>15.952218</td>\n",
       "      <td>115.244002</td>\n",
       "      <td>7.884160</td>\n",
       "      <td>0.331329</td>\n",
       "      <td>11.760232</td>\n",
       "      <td>0.476951</td>\n",
       "    </tr>\n",
       "    <tr>\n",
       "      <th>min</th>\n",
       "      <td>0.000000</td>\n",
       "      <td>0.000000</td>\n",
       "      <td>0.000000</td>\n",
       "      <td>0.000000</td>\n",
       "      <td>0.000000</td>\n",
       "      <td>0.000000</td>\n",
       "      <td>0.078000</td>\n",
       "      <td>21.000000</td>\n",
       "      <td>0.000000</td>\n",
       "    </tr>\n",
       "    <tr>\n",
       "      <th>25%</th>\n",
       "      <td>1.000000</td>\n",
       "      <td>99.000000</td>\n",
       "      <td>62.000000</td>\n",
       "      <td>0.000000</td>\n",
       "      <td>0.000000</td>\n",
       "      <td>27.300000</td>\n",
       "      <td>0.243750</td>\n",
       "      <td>24.000000</td>\n",
       "      <td>0.000000</td>\n",
       "    </tr>\n",
       "    <tr>\n",
       "      <th>50%</th>\n",
       "      <td>3.000000</td>\n",
       "      <td>117.000000</td>\n",
       "      <td>72.000000</td>\n",
       "      <td>23.000000</td>\n",
       "      <td>30.500000</td>\n",
       "      <td>32.000000</td>\n",
       "      <td>0.372500</td>\n",
       "      <td>29.000000</td>\n",
       "      <td>0.000000</td>\n",
       "    </tr>\n",
       "    <tr>\n",
       "      <th>75%</th>\n",
       "      <td>6.000000</td>\n",
       "      <td>140.250000</td>\n",
       "      <td>80.000000</td>\n",
       "      <td>32.000000</td>\n",
       "      <td>127.250000</td>\n",
       "      <td>36.600000</td>\n",
       "      <td>0.626250</td>\n",
       "      <td>41.000000</td>\n",
       "      <td>1.000000</td>\n",
       "    </tr>\n",
       "    <tr>\n",
       "      <th>max</th>\n",
       "      <td>17.000000</td>\n",
       "      <td>199.000000</td>\n",
       "      <td>122.000000</td>\n",
       "      <td>99.000000</td>\n",
       "      <td>846.000000</td>\n",
       "      <td>67.100000</td>\n",
       "      <td>2.420000</td>\n",
       "      <td>81.000000</td>\n",
       "      <td>1.000000</td>\n",
       "    </tr>\n",
       "  </tbody>\n",
       "</table>\n",
       "</div>"
      ],
      "text/plain": [
       "       Pregnancies     Glucose  BloodPressure  SkinThickness     Insulin  \\\n",
       "count   768.000000  768.000000     768.000000     768.000000  768.000000   \n",
       "mean      3.845052  120.894531      69.105469      20.536458   79.799479   \n",
       "std       3.369578   31.972618      19.355807      15.952218  115.244002   \n",
       "min       0.000000    0.000000       0.000000       0.000000    0.000000   \n",
       "25%       1.000000   99.000000      62.000000       0.000000    0.000000   \n",
       "50%       3.000000  117.000000      72.000000      23.000000   30.500000   \n",
       "75%       6.000000  140.250000      80.000000      32.000000  127.250000   \n",
       "max      17.000000  199.000000     122.000000      99.000000  846.000000   \n",
       "\n",
       "              BMI  DiabetesPedigreeFunction         Age     Outcome  \n",
       "count  768.000000                768.000000  768.000000  768.000000  \n",
       "mean    31.992578                  0.471876   33.240885    0.348958  \n",
       "std      7.884160                  0.331329   11.760232    0.476951  \n",
       "min      0.000000                  0.078000   21.000000    0.000000  \n",
       "25%     27.300000                  0.243750   24.000000    0.000000  \n",
       "50%     32.000000                  0.372500   29.000000    0.000000  \n",
       "75%     36.600000                  0.626250   41.000000    1.000000  \n",
       "max     67.100000                  2.420000   81.000000    1.000000  "
      ]
     },
     "execution_count": 9,
     "metadata": {},
     "output_type": "execute_result"
    }
   ],
   "source": [
    "dataset.describe()"
   ]
  },
  {
   "cell_type": "code",
   "execution_count": 10,
   "id": "15e43173-be5f-466a-adea-53d6e305cbf0",
   "metadata": {},
   "outputs": [
    {
     "data": {
      "text/plain": [
       "0    500\n",
       "1    268\n",
       "Name: Outcome, dtype: int64"
      ]
     },
     "execution_count": 10,
     "metadata": {},
     "output_type": "execute_result"
    }
   ],
   "source": [
    "dataset['Outcome'].value_counts()"
   ]
  },
  {
   "cell_type": "markdown",
   "id": "db94b966-103e-4de3-bbc0-351a62b940f2",
   "metadata": {},
   "source": [
    "Outcome = 0 => Non-diabetic,\n",
    "Outcome = 1 => Diabetic"
   ]
  },
  {
   "cell_type": "code",
   "execution_count": 11,
   "id": "b5612dca-217e-4dda-8f47-9325a1d35582",
   "metadata": {},
   "outputs": [
    {
     "data": {
      "text/html": [
       "<div>\n",
       "<style scoped>\n",
       "    .dataframe tbody tr th:only-of-type {\n",
       "        vertical-align: middle;\n",
       "    }\n",
       "\n",
       "    .dataframe tbody tr th {\n",
       "        vertical-align: top;\n",
       "    }\n",
       "\n",
       "    .dataframe thead th {\n",
       "        text-align: right;\n",
       "    }\n",
       "</style>\n",
       "<table border=\"1\" class=\"dataframe\">\n",
       "  <thead>\n",
       "    <tr style=\"text-align: right;\">\n",
       "      <th></th>\n",
       "      <th>Pregnancies</th>\n",
       "      <th>Glucose</th>\n",
       "      <th>BloodPressure</th>\n",
       "      <th>SkinThickness</th>\n",
       "      <th>Insulin</th>\n",
       "      <th>BMI</th>\n",
       "      <th>DiabetesPedigreeFunction</th>\n",
       "      <th>Age</th>\n",
       "    </tr>\n",
       "    <tr>\n",
       "      <th>Outcome</th>\n",
       "      <th></th>\n",
       "      <th></th>\n",
       "      <th></th>\n",
       "      <th></th>\n",
       "      <th></th>\n",
       "      <th></th>\n",
       "      <th></th>\n",
       "      <th></th>\n",
       "    </tr>\n",
       "  </thead>\n",
       "  <tbody>\n",
       "    <tr>\n",
       "      <th>0</th>\n",
       "      <td>3.298000</td>\n",
       "      <td>109.980000</td>\n",
       "      <td>68.184000</td>\n",
       "      <td>19.664000</td>\n",
       "      <td>68.792000</td>\n",
       "      <td>30.304200</td>\n",
       "      <td>0.429734</td>\n",
       "      <td>31.190000</td>\n",
       "    </tr>\n",
       "    <tr>\n",
       "      <th>1</th>\n",
       "      <td>4.865672</td>\n",
       "      <td>141.257463</td>\n",
       "      <td>70.824627</td>\n",
       "      <td>22.164179</td>\n",
       "      <td>100.335821</td>\n",
       "      <td>35.142537</td>\n",
       "      <td>0.550500</td>\n",
       "      <td>37.067164</td>\n",
       "    </tr>\n",
       "  </tbody>\n",
       "</table>\n",
       "</div>"
      ],
      "text/plain": [
       "         Pregnancies     Glucose  BloodPressure  SkinThickness     Insulin  \\\n",
       "Outcome                                                                      \n",
       "0           3.298000  109.980000      68.184000      19.664000   68.792000   \n",
       "1           4.865672  141.257463      70.824627      22.164179  100.335821   \n",
       "\n",
       "               BMI  DiabetesPedigreeFunction        Age  \n",
       "Outcome                                                  \n",
       "0        30.304200                  0.429734  31.190000  \n",
       "1        35.142537                  0.550500  37.067164  "
      ]
     },
     "execution_count": 11,
     "metadata": {},
     "output_type": "execute_result"
    }
   ],
   "source": [
    "dataset.groupby('Outcome').mean()"
   ]
  },
  {
   "cell_type": "code",
   "execution_count": 12,
   "id": "c7f4622f-76c8-4f97-9bcd-9c67d2a4ca33",
   "metadata": {},
   "outputs": [],
   "source": [
    "x = dataset.drop(columns = 'Outcome', axis = 1)\n",
    "y = dataset['Outcome']"
   ]
  },
  {
   "cell_type": "code",
   "execution_count": 13,
   "id": "f1c8a06a-6953-4840-8001-69f5724657fa",
   "metadata": {},
   "outputs": [
    {
     "data": {
      "text/html": [
       "<div>\n",
       "<style scoped>\n",
       "    .dataframe tbody tr th:only-of-type {\n",
       "        vertical-align: middle;\n",
       "    }\n",
       "\n",
       "    .dataframe tbody tr th {\n",
       "        vertical-align: top;\n",
       "    }\n",
       "\n",
       "    .dataframe thead th {\n",
       "        text-align: right;\n",
       "    }\n",
       "</style>\n",
       "<table border=\"1\" class=\"dataframe\">\n",
       "  <thead>\n",
       "    <tr style=\"text-align: right;\">\n",
       "      <th></th>\n",
       "      <th>Pregnancies</th>\n",
       "      <th>Glucose</th>\n",
       "      <th>BloodPressure</th>\n",
       "      <th>SkinThickness</th>\n",
       "      <th>Insulin</th>\n",
       "      <th>BMI</th>\n",
       "      <th>DiabetesPedigreeFunction</th>\n",
       "      <th>Age</th>\n",
       "    </tr>\n",
       "  </thead>\n",
       "  <tbody>\n",
       "    <tr>\n",
       "      <th>0</th>\n",
       "      <td>6</td>\n",
       "      <td>148</td>\n",
       "      <td>72</td>\n",
       "      <td>35</td>\n",
       "      <td>0</td>\n",
       "      <td>33.6</td>\n",
       "      <td>0.627</td>\n",
       "      <td>50</td>\n",
       "    </tr>\n",
       "    <tr>\n",
       "      <th>1</th>\n",
       "      <td>1</td>\n",
       "      <td>85</td>\n",
       "      <td>66</td>\n",
       "      <td>29</td>\n",
       "      <td>0</td>\n",
       "      <td>26.6</td>\n",
       "      <td>0.351</td>\n",
       "      <td>31</td>\n",
       "    </tr>\n",
       "    <tr>\n",
       "      <th>2</th>\n",
       "      <td>8</td>\n",
       "      <td>183</td>\n",
       "      <td>64</td>\n",
       "      <td>0</td>\n",
       "      <td>0</td>\n",
       "      <td>23.3</td>\n",
       "      <td>0.672</td>\n",
       "      <td>32</td>\n",
       "    </tr>\n",
       "    <tr>\n",
       "      <th>3</th>\n",
       "      <td>1</td>\n",
       "      <td>89</td>\n",
       "      <td>66</td>\n",
       "      <td>23</td>\n",
       "      <td>94</td>\n",
       "      <td>28.1</td>\n",
       "      <td>0.167</td>\n",
       "      <td>21</td>\n",
       "    </tr>\n",
       "    <tr>\n",
       "      <th>4</th>\n",
       "      <td>0</td>\n",
       "      <td>137</td>\n",
       "      <td>40</td>\n",
       "      <td>35</td>\n",
       "      <td>168</td>\n",
       "      <td>43.1</td>\n",
       "      <td>2.288</td>\n",
       "      <td>33</td>\n",
       "    </tr>\n",
       "  </tbody>\n",
       "</table>\n",
       "</div>"
      ],
      "text/plain": [
       "   Pregnancies  Glucose  BloodPressure  SkinThickness  Insulin   BMI  \\\n",
       "0            6      148             72             35        0  33.6   \n",
       "1            1       85             66             29        0  26.6   \n",
       "2            8      183             64              0        0  23.3   \n",
       "3            1       89             66             23       94  28.1   \n",
       "4            0      137             40             35      168  43.1   \n",
       "\n",
       "   DiabetesPedigreeFunction  Age  \n",
       "0                     0.627   50  \n",
       "1                     0.351   31  \n",
       "2                     0.672   32  \n",
       "3                     0.167   21  \n",
       "4                     2.288   33  "
      ]
     },
     "execution_count": 13,
     "metadata": {},
     "output_type": "execute_result"
    }
   ],
   "source": [
    "x.head()"
   ]
  },
  {
   "cell_type": "code",
   "execution_count": 14,
   "id": "fb5f4c22-69c0-413d-b31d-dcd3103c7e79",
   "metadata": {},
   "outputs": [
    {
     "data": {
      "text/plain": [
       "0    1\n",
       "1    0\n",
       "2    1\n",
       "3    0\n",
       "4    1\n",
       "Name: Outcome, dtype: int64"
      ]
     },
     "execution_count": 14,
     "metadata": {},
     "output_type": "execute_result"
    }
   ],
   "source": [
    "y.head()"
   ]
  },
  {
   "cell_type": "markdown",
   "id": "8731bde4-462c-4442-84ff-4333b0863976",
   "metadata": {},
   "source": [
    "Data Standardization"
   ]
  },
  {
   "cell_type": "code",
   "execution_count": 15,
   "id": "4d233d54-cff6-43fc-bc70-11e34dbe579b",
   "metadata": {},
   "outputs": [],
   "source": [
    "scaler = StandardScaler()"
   ]
  },
  {
   "cell_type": "code",
   "execution_count": 16,
   "id": "c8686fd0-e73d-49fe-9d04-ed48e86e7b25",
   "metadata": {},
   "outputs": [
    {
     "data": {
      "text/plain": [
       "StandardScaler()"
      ]
     },
     "execution_count": 16,
     "metadata": {},
     "output_type": "execute_result"
    }
   ],
   "source": [
    "scaler.fit(x)"
   ]
  },
  {
   "cell_type": "code",
   "execution_count": 17,
   "id": "e302778a-c075-4411-a032-73973e66f601",
   "metadata": {},
   "outputs": [],
   "source": [
    "Standard_data = scaler.transform(x) ##Or use fit_transform()"
   ]
  },
  {
   "cell_type": "code",
   "execution_count": 18,
   "id": "003ddbcd-f3d6-4ceb-9d02-8490886d9904",
   "metadata": {},
   "outputs": [
    {
     "data": {
      "text/plain": [
       "array([[ 0.63994726,  0.84832379,  0.14964075, ...,  0.20401277,\n",
       "         0.46849198,  1.4259954 ],\n",
       "       [-0.84488505, -1.12339636, -0.16054575, ..., -0.68442195,\n",
       "        -0.36506078, -0.19067191],\n",
       "       [ 1.23388019,  1.94372388, -0.26394125, ..., -1.10325546,\n",
       "         0.60439732, -0.10558415],\n",
       "       ...,\n",
       "       [ 0.3429808 ,  0.00330087,  0.14964075, ..., -0.73518964,\n",
       "        -0.68519336, -0.27575966],\n",
       "       [-0.84488505,  0.1597866 , -0.47073225, ..., -0.24020459,\n",
       "        -0.37110101,  1.17073215],\n",
       "       [-0.84488505, -0.8730192 ,  0.04624525, ..., -0.20212881,\n",
       "        -0.47378505, -0.87137393]])"
      ]
     },
     "execution_count": 18,
     "metadata": {},
     "output_type": "execute_result"
    }
   ],
   "source": [
    "Standard_data"
   ]
  },
  {
   "cell_type": "code",
   "execution_count": 19,
   "id": "a5da07a3-2038-48b7-9c17-9fadee8d5ffe",
   "metadata": {},
   "outputs": [],
   "source": [
    "x = Standard_data\n",
    "y = dataset['Outcome']"
   ]
  },
  {
   "cell_type": "markdown",
   "id": "1061d2fb-9770-479e-87de-4c15dae7a501",
   "metadata": {},
   "source": [
    "Train Test Split"
   ]
  },
  {
   "cell_type": "code",
   "execution_count": 24,
   "id": "b1188ba5-b2b7-4cc7-b3f6-18607c1a44eb",
   "metadata": {},
   "outputs": [],
   "source": [
    "x_train, x_test, y_train, y_test = train_test_split(x, y, test_size = 0.2, stratify = y, random_state = 2)"
   ]
  },
  {
   "cell_type": "code",
   "execution_count": 30,
   "id": "0d9c74c8-daa1-43d2-a720-cebf718eadf1",
   "metadata": {},
   "outputs": [
    {
     "data": {
      "text/plain": [
       "((768, 8), (614, 8), (154, 8))"
      ]
     },
     "execution_count": 30,
     "metadata": {},
     "output_type": "execute_result"
    }
   ],
   "source": [
    "x.shape, x_train.shape, x_test.shape"
   ]
  },
  {
   "cell_type": "markdown",
   "id": "0ff51972-abed-4b3f-8d5a-bdb30e6e9113",
   "metadata": {},
   "source": [
    "Training the model"
   ]
  },
  {
   "cell_type": "code",
   "execution_count": 31,
   "id": "fd8d1642-7f66-4cb4-9a9d-d5838b188b38",
   "metadata": {},
   "outputs": [],
   "source": [
    "classifier = svm.SVC(kernel= 'linear')"
   ]
  },
  {
   "cell_type": "markdown",
   "id": "55d2d4f5-b582-426c-8fa4-56863c87e74a",
   "metadata": {},
   "source": [
    "training the support vector machine classifier"
   ]
  },
  {
   "cell_type": "code",
   "execution_count": 50,
   "id": "3f05d08f-fe9a-447f-8b6b-0c8c99872ad8",
   "metadata": {},
   "outputs": [],
   "source": [
    "model = classifier.fit(x_train, y_train)"
   ]
  },
  {
   "cell_type": "markdown",
   "id": "de169830-9323-42c8-8008-131112d30e28",
   "metadata": {},
   "source": [
    "Evaluation of the model"
   ]
  },
  {
   "cell_type": "code",
   "execution_count": 51,
   "id": "41313af9-caeb-4065-a55a-a88a40b8e44f",
   "metadata": {},
   "outputs": [],
   "source": [
    "##Accuracy score on the traning data"
   ]
  },
  {
   "cell_type": "code",
   "execution_count": 52,
   "id": "7db7a6fe-735f-42a2-81ee-1587746deb39",
   "metadata": {},
   "outputs": [],
   "source": [
    "x_train_pred = classifier.predict(x_train)"
   ]
  },
  {
   "cell_type": "code",
   "execution_count": 53,
   "id": "2a50fe75-40eb-45db-88a4-5bca8de04d63",
   "metadata": {},
   "outputs": [],
   "source": [
    "accuracy = accuracy_score(x_train_pred, y_train)"
   ]
  },
  {
   "cell_type": "code",
   "execution_count": 54,
   "id": "38846a3d-77ac-41c1-9167-c2a6ed929835",
   "metadata": {},
   "outputs": [
    {
     "name": "stdout",
     "output_type": "stream",
     "text": [
      "The accuracy of the model in the training data 78.66449511400651\n"
     ]
    }
   ],
   "source": [
    "print(\"The accuracy of the model in the training data\", accuracy*100)"
   ]
  },
  {
   "cell_type": "code",
   "execution_count": 55,
   "id": "0c2e7d15-fa8a-4230-8849-797de1c01a16",
   "metadata": {},
   "outputs": [],
   "source": [
    "##Accuracy score on the test data"
   ]
  },
  {
   "cell_type": "code",
   "execution_count": 56,
   "id": "581d3643-bae5-404a-9ea8-12f361a906fd",
   "metadata": {},
   "outputs": [],
   "source": [
    "x_test_pred = classifier.predict(x_test)"
   ]
  },
  {
   "cell_type": "code",
   "execution_count": 57,
   "id": "d11138b4-4d13-4c6e-bacc-5dda9e7b474c",
   "metadata": {},
   "outputs": [],
   "source": [
    "accuracy_test = accuracy_score(x_test_pred, y_test)"
   ]
  },
  {
   "cell_type": "code",
   "execution_count": 48,
   "id": "084fe5f3-4c71-4c98-a51f-509ae3c6917f",
   "metadata": {},
   "outputs": [
    {
     "name": "stdout",
     "output_type": "stream",
     "text": [
      "The accuracy of the model in the test data 77.27272727272727\n"
     ]
    }
   ],
   "source": [
    "print(\"The accuracy of the model in the test data\", accuracy_test*100)"
   ]
  },
  {
   "cell_type": "code",
   "execution_count": 60,
   "id": "813d3079-a1c1-4117-83f8-022eb40bc96a",
   "metadata": {},
   "outputs": [
    {
     "name": "stdout",
     "output_type": "stream",
     "text": [
      "the best accuracy of the  model in the training data 78.66449511400651\n"
     ]
    }
   ],
   "source": [
    "max = 0\n",
    "for i in range(100):\n",
    "    x_train, x_test, y_train, y_test = train_test_split(x, y, test_size = 0.2, stratify = y, random_state = 2)\n",
    "    model = classifier.fit(x_train, y_train)\n",
    "    x_train_pred = classifier.predict(x_train)\n",
    "    accuracy = accuracy_score(x_train_pred, y_train)\n",
    "    if (accuracy > max):\n",
    "        max = accuracy\n",
    "print(\"the best accuracy of the  model in the training data\", max*100)  "
   ]
  },
  {
   "cell_type": "markdown",
   "id": "8bd72c90-6595-4699-bbfd-ed82c39eee1f",
   "metadata": {},
   "source": [
    "Prediction system"
   ]
  },
  {
   "cell_type": "code",
   "execution_count": 79,
   "id": "7ef61111-1715-4dcb-a833-8a8a0aacddd0",
   "metadata": {},
   "outputs": [
    {
     "name": "stdout",
     "output_type": "stream",
     "text": [
      "1 Actual value 0 ,Predicted value 0, Correct prediction\n",
      "2 Actual value 0 ,Predicted value 0, Correct prediction\n",
      "3 Actual value 1 ,Predicted value 0, Incorrect prediction\n",
      "4 Actual value 1 ,Predicted value 1, Correct prediction\n",
      "5 Actual value 0 ,Predicted value 0, Correct prediction\n",
      "6 Actual value 0 ,Predicted value 0, Correct prediction\n",
      "7 Actual value 0 ,Predicted value 0, Correct prediction\n",
      "8 Actual value 1 ,Predicted value 1, Correct prediction\n",
      "9 Actual value 0 ,Predicted value 0, Correct prediction\n",
      "10 Actual value 1 ,Predicted value 1, Correct prediction\n",
      "11 Actual value 1 ,Predicted value 1, Correct prediction\n",
      "12 Actual value 0 ,Predicted value 0, Correct prediction\n",
      "13 Actual value 0 ,Predicted value 1, Incorrect prediction\n",
      "14 Actual value 1 ,Predicted value 0, Incorrect prediction\n",
      "15 Actual value 0 ,Predicted value 0, Correct prediction\n",
      "16 Actual value 1 ,Predicted value 1, Correct prediction\n",
      "17 Actual value 0 ,Predicted value 0, Correct prediction\n",
      "18 Actual value 0 ,Predicted value 0, Correct prediction\n",
      "19 Actual value 0 ,Predicted value 0, Correct prediction\n",
      "20 Actual value 0 ,Predicted value 1, Incorrect prediction\n",
      "21 Actual value 0 ,Predicted value 0, Correct prediction\n",
      "22 Actual value 0 ,Predicted value 0, Correct prediction\n",
      "23 Actual value 1 ,Predicted value 1, Correct prediction\n",
      "24 Actual value 0 ,Predicted value 1, Incorrect prediction\n",
      "25 Actual value 0 ,Predicted value 0, Correct prediction\n",
      "26 Actual value 0 ,Predicted value 0, Correct prediction\n",
      "27 Actual value 0 ,Predicted value 1, Incorrect prediction\n",
      "28 Actual value 1 ,Predicted value 1, Correct prediction\n",
      "29 Actual value 0 ,Predicted value 0, Correct prediction\n",
      "30 Actual value 1 ,Predicted value 0, Incorrect prediction\n",
      "31 Actual value 0 ,Predicted value 0, Correct prediction\n",
      "32 Actual value 0 ,Predicted value 0, Correct prediction\n",
      "33 Actual value 0 ,Predicted value 0, Correct prediction\n",
      "34 Actual value 1 ,Predicted value 1, Correct prediction\n",
      "35 Actual value 0 ,Predicted value 0, Correct prediction\n",
      "36 Actual value 0 ,Predicted value 1, Incorrect prediction\n",
      "37 Actual value 0 ,Predicted value 0, Correct prediction\n",
      "38 Actual value 0 ,Predicted value 0, Correct prediction\n",
      "39 Actual value 0 ,Predicted value 0, Correct prediction\n",
      "40 Actual value 0 ,Predicted value 0, Correct prediction\n",
      "41 Actual value 1 ,Predicted value 1, Correct prediction\n",
      "42 Actual value 0 ,Predicted value 0, Correct prediction\n",
      "43 Actual value 0 ,Predicted value 0, Correct prediction\n",
      "44 Actual value 1 ,Predicted value 1, Correct prediction\n",
      "45 Actual value 0 ,Predicted value 0, Correct prediction\n",
      "46 Actual value 0 ,Predicted value 1, Incorrect prediction\n",
      "47 Actual value 0 ,Predicted value 0, Correct prediction\n",
      "48 Actual value 0 ,Predicted value 0, Correct prediction\n",
      "49 Actual value 0 ,Predicted value 0, Correct prediction\n",
      "50 Actual value 0 ,Predicted value 0, Correct prediction\n",
      "51 Actual value 0 ,Predicted value 0, Correct prediction\n",
      "52 Actual value 0 ,Predicted value 0, Correct prediction\n",
      "53 Actual value 1 ,Predicted value 0, Incorrect prediction\n",
      "54 Actual value 0 ,Predicted value 0, Correct prediction\n",
      "55 Actual value 1 ,Predicted value 1, Correct prediction\n",
      "56 Actual value 0 ,Predicted value 0, Correct prediction\n",
      "57 Actual value 0 ,Predicted value 0, Correct prediction\n",
      "58 Actual value 0 ,Predicted value 0, Correct prediction\n",
      "59 Actual value 0 ,Predicted value 1, Incorrect prediction\n",
      "60 Actual value 0 ,Predicted value 0, Correct prediction\n",
      "61 Actual value 0 ,Predicted value 1, Incorrect prediction\n",
      "62 Actual value 0 ,Predicted value 0, Correct prediction\n",
      "63 Actual value 0 ,Predicted value 1, Incorrect prediction\n",
      "64 Actual value 0 ,Predicted value 0, Correct prediction\n",
      "65 Actual value 1 ,Predicted value 1, Correct prediction\n",
      "66 Actual value 0 ,Predicted value 1, Incorrect prediction\n",
      "67 Actual value 0 ,Predicted value 0, Correct prediction\n",
      "68 Actual value 1 ,Predicted value 1, Correct prediction\n",
      "69 Actual value 0 ,Predicted value 0, Correct prediction\n",
      "70 Actual value 0 ,Predicted value 0, Correct prediction\n",
      "71 Actual value 1 ,Predicted value 1, Correct prediction\n",
      "72 Actual value 0 ,Predicted value 0, Correct prediction\n",
      "73 Actual value 1 ,Predicted value 0, Incorrect prediction\n",
      "74 Actual value 0 ,Predicted value 0, Correct prediction\n",
      "75 Actual value 1 ,Predicted value 1, Correct prediction\n",
      "76 Actual value 0 ,Predicted value 0, Correct prediction\n",
      "77 Actual value 0 ,Predicted value 0, Correct prediction\n",
      "78 Actual value 0 ,Predicted value 0, Correct prediction\n",
      "79 Actual value 0 ,Predicted value 1, Incorrect prediction\n",
      "80 Actual value 0 ,Predicted value 0, Correct prediction\n",
      "81 Actual value 0 ,Predicted value 0, Correct prediction\n",
      "82 Actual value 0 ,Predicted value 0, Correct prediction\n",
      "83 Actual value 0 ,Predicted value 0, Correct prediction\n",
      "84 Actual value 0 ,Predicted value 1, Incorrect prediction\n",
      "85 Actual value 0 ,Predicted value 1, Incorrect prediction\n",
      "86 Actual value 1 ,Predicted value 0, Incorrect prediction\n",
      "87 Actual value 0 ,Predicted value 0, Correct prediction\n",
      "88 Actual value 0 ,Predicted value 0, Correct prediction\n",
      "89 Actual value 1 ,Predicted value 0, Incorrect prediction\n",
      "90 Actual value 0 ,Predicted value 0, Correct prediction\n",
      "91 Actual value 0 ,Predicted value 1, Incorrect prediction\n",
      "92 Actual value 0 ,Predicted value 0, Correct prediction\n",
      "93 Actual value 1 ,Predicted value 1, Correct prediction\n",
      "94 Actual value 0 ,Predicted value 0, Correct prediction\n",
      "95 Actual value 0 ,Predicted value 0, Correct prediction\n",
      "96 Actual value 1 ,Predicted value 1, Correct prediction\n",
      "97 Actual value 0 ,Predicted value 0, Correct prediction\n",
      "98 Actual value 0 ,Predicted value 0, Correct prediction\n",
      "99 Actual value 1 ,Predicted value 0, Incorrect prediction\n",
      "100 Actual value 1 ,Predicted value 1, Correct prediction\n",
      "101 Actual value 0 ,Predicted value 0, Correct prediction\n",
      "102 Actual value 0 ,Predicted value 1, Incorrect prediction\n",
      "103 Actual value 0 ,Predicted value 1, Incorrect prediction\n",
      "104 Actual value 0 ,Predicted value 0, Correct prediction\n",
      "105 Actual value 0 ,Predicted value 1, Incorrect prediction\n",
      "106 Actual value 0 ,Predicted value 0, Correct prediction\n",
      "107 Actual value 0 ,Predicted value 0, Correct prediction\n",
      "108 Actual value 0 ,Predicted value 0, Correct prediction\n",
      "109 Actual value 0 ,Predicted value 0, Correct prediction\n",
      "110 Actual value 0 ,Predicted value 0, Correct prediction\n",
      "111 Actual value 1 ,Predicted value 1, Correct prediction\n",
      "112 Actual value 0 ,Predicted value 0, Correct prediction\n",
      "113 Actual value 0 ,Predicted value 0, Correct prediction\n",
      "114 Actual value 0 ,Predicted value 0, Correct prediction\n",
      "115 Actual value 0 ,Predicted value 1, Incorrect prediction\n",
      "116 Actual value 1 ,Predicted value 1, Correct prediction\n",
      "117 Actual value 0 ,Predicted value 0, Correct prediction\n",
      "118 Actual value 1 ,Predicted value 1, Correct prediction\n",
      "119 Actual value 0 ,Predicted value 1, Incorrect prediction\n",
      "120 Actual value 1 ,Predicted value 1, Correct prediction\n",
      "121 Actual value 0 ,Predicted value 0, Correct prediction\n",
      "122 Actual value 0 ,Predicted value 1, Incorrect prediction\n",
      "123 Actual value 0 ,Predicted value 0, Correct prediction\n",
      "124 Actual value 1 ,Predicted value 1, Correct prediction\n",
      "125 Actual value 1 ,Predicted value 0, Incorrect prediction\n",
      "126 Actual value 0 ,Predicted value 0, Correct prediction\n",
      "127 Actual value 0 ,Predicted value 0, Correct prediction\n",
      "128 Actual value 0 ,Predicted value 0, Correct prediction\n",
      "129 Actual value 0 ,Predicted value 1, Incorrect prediction\n",
      "130 Actual value 0 ,Predicted value 0, Correct prediction\n",
      "131 Actual value 0 ,Predicted value 0, Correct prediction\n",
      "132 Actual value 1 ,Predicted value 1, Correct prediction\n",
      "133 Actual value 1 ,Predicted value 1, Correct prediction\n",
      "134 Actual value 0 ,Predicted value 1, Incorrect prediction\n",
      "135 Actual value 0 ,Predicted value 0, Correct prediction\n",
      "136 Actual value 0 ,Predicted value 1, Incorrect prediction\n",
      "137 Actual value 0 ,Predicted value 1, Incorrect prediction\n",
      "138 Actual value 0 ,Predicted value 1, Incorrect prediction\n",
      "139 Actual value 0 ,Predicted value 0, Correct prediction\n",
      "140 Actual value 0 ,Predicted value 0, Correct prediction\n",
      "141 Actual value 0 ,Predicted value 0, Correct prediction\n",
      "142 Actual value 1 ,Predicted value 1, Correct prediction\n",
      "143 Actual value 0 ,Predicted value 0, Correct prediction\n",
      "144 Actual value 0 ,Predicted value 0, Correct prediction\n",
      "145 Actual value 0 ,Predicted value 0, Correct prediction\n",
      "146 Actual value 1 ,Predicted value 1, Correct prediction\n",
      "147 Actual value 0 ,Predicted value 1, Incorrect prediction\n",
      "148 Actual value 0 ,Predicted value 0, Correct prediction\n",
      "149 Actual value 0 ,Predicted value 0, Correct prediction\n",
      "150 Actual value 0 ,Predicted value 0, Correct prediction\n",
      "151 Actual value 1 ,Predicted value 1, Correct prediction\n",
      "152 Actual value 0 ,Predicted value 0, Correct prediction\n",
      "153 Actual value 0 ,Predicted value 0, Correct prediction\n",
      "154 Actual value 0 ,Predicted value 0, Correct prediction\n"
     ]
    }
   ],
   "source": [
    "for i in range(len(x_test_pred)):\n",
    "    print(i+1, \"Actual value\",  x_test_pred[i],\",Predicted value\", y_test.iat[i], end = ', ')\n",
    "    if (x_test_pred[i] == y_test.iat[i]):\n",
    "        print(\"Correct prediction\")\n",
    "    else:\n",
    "        print(\"Incorrect prediction\")"
   ]
  },
  {
   "cell_type": "code",
   "execution_count": null,
   "id": "a054c872-1fed-4054-9511-186609e23218",
   "metadata": {},
   "outputs": [],
   "source": []
  }
 ],
 "metadata": {
  "kernelspec": {
   "display_name": "Python 3 (ipykernel)",
   "language": "python",
   "name": "python3"
  },
  "language_info": {
   "codemirror_mode": {
    "name": "ipython",
    "version": 3
   },
   "file_extension": ".py",
   "mimetype": "text/x-python",
   "name": "python",
   "nbconvert_exporter": "python",
   "pygments_lexer": "ipython3",
   "version": "3.7.1"
  }
 },
 "nbformat": 4,
 "nbformat_minor": 5
}
